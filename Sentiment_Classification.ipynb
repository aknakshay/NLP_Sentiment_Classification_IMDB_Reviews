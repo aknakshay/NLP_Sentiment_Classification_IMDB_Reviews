{
  "nbformat": 4,
  "nbformat_minor": 0,
  "metadata": {
    "kernelspec": {
      "name": "python3",
      "display_name": "Python 3"
    },
    "language_info": {
      "codemirror_mode": {
        "name": "ipython",
        "version": 3
      },
      "file_extension": ".py",
      "mimetype": "text/x-python",
      "name": "python",
      "nbconvert_exporter": "python",
      "pygments_lexer": "ipython3",
      "version": "3.6.8"
    },
    "colab": {
      "name": "Copy of AI Research Scientist - LINKS Foundation Offline Test.ipynb",
      "provenance": [],
      "collapsed_sections": [],
      "machine_shape": "hm",
      "include_colab_link": true
    },
    "accelerator": "GPU"
  },
  "cells": [
    {
      "cell_type": "markdown",
      "metadata": {
        "id": "view-in-github",
        "colab_type": "text"
      },
      "source": [
        "<a href=\"https://colab.research.google.com/github/aknakshay/NLP_Sentiment_Classification_IMDB_Reviews/blob/master/Sentiment_Classification.ipynb\" target=\"_parent\"><img src=\"https://colab.research.google.com/assets/colab-badge.svg\" alt=\"Open In Colab\"/></a>"
      ]
    },
    {
      "cell_type": "code",
      "metadata": {
        "id": "JU06cTLS_Pjn",
        "colab_type": "code",
        "colab": {
          "base_uri": "https://localhost:8080/",
          "height": 54
        },
        "outputId": "00e111c1-b731-47c1-d030-771cbfb20d01"
      },
      "source": [
        "'''\n",
        "  The task is to classify the sentiment of the text\n",
        "\n",
        "  Text is first cleaned by removing html tags, limited stopwords,\n",
        "  and performing case normalisation\n",
        "\n",
        "  The data is further filtered by restricting the\n",
        "  vocabulary size\n",
        "\n",
        "  Data is then encoded into numbers and padded to have the same\n",
        "  length\n",
        "\n",
        "  A Bidirectional GRU model is trained over data with tanh activation\n",
        "\n",
        "  In two epochs only, model fits the data and gives an accuracy of\n",
        "  around 87%\n",
        "\n",
        "\n",
        "'''"
      ],
      "execution_count": 1,
      "outputs": [
        {
          "output_type": "execute_result",
          "data": {
            "text/plain": [
              "'\\n  The task is to classify the sentiment of the text\\n\\n  Text is first cleaned by removing html tags, limited stopwords,\\n  and performing case normalisation\\n\\n  The data is further filtered by restricting the\\n  vocabulary size\\n\\n  Data is then encoded into numbers and padded to have the same\\n  length\\n\\n  A Bidirectional GRU model is trained over data with tanh activation\\n\\n  In two epochs only, model fits the data and gives an accuracy of\\n  around 87%\\n\\n\\n'"
            ]
          },
          "metadata": {
            "tags": []
          },
          "execution_count": 1
        }
      ]
    },
    {
      "cell_type": "code",
      "metadata": {
        "id": "qrBw2g065Zn3",
        "colab_type": "code",
        "outputId": "de867cc6-bf1d-456d-dbff-cdd716076726",
        "colab": {
          "base_uri": "https://localhost:8080/",
          "height": 148
        }
      },
      "source": [
        "import os\n",
        "from collections import Counter\n",
        "from tqdm import tqdm_notebook\n",
        "import re \n",
        "import nltk\n",
        "from keras.preprocessing.sequence import pad_sequences\n",
        "from keras.preprocessing.text import text_to_word_sequence, Tokenizer\n",
        "import random\n",
        "nltk.download('punkt')\n",
        "from nltk.corpus import stopwords\n",
        "nltk.download('stopwords')\n",
        "import matplotlib.pyplot as plt\n",
        "%matplotlib inline\n",
        "from keras.models import Sequential\n",
        "from keras.layers import Dense, Embedding\n",
        "from keras.layers import LSTM, GRU, Dropout, Bidirectional"
      ],
      "execution_count": 2,
      "outputs": [
        {
          "output_type": "stream",
          "text": [
            "Using TensorFlow backend.\n"
          ],
          "name": "stderr"
        },
        {
          "output_type": "display_data",
          "data": {
            "text/html": [
              "<p style=\"color: red;\">\n",
              "The default version of TensorFlow in Colab will soon switch to TensorFlow 2.x.<br>\n",
              "We recommend you <a href=\"https://www.tensorflow.org/guide/migrate\" target=\"_blank\">upgrade</a> now \n",
              "or ensure your notebook will continue to use TensorFlow 1.x via the <code>%tensorflow_version 1.x</code> magic:\n",
              "<a href=\"https://colab.research.google.com/notebooks/tensorflow_version.ipynb\" target=\"_blank\">more info</a>.</p>\n"
            ],
            "text/plain": [
              "<IPython.core.display.HTML object>"
            ]
          },
          "metadata": {
            "tags": []
          }
        },
        {
          "output_type": "stream",
          "text": [
            "[nltk_data] Downloading package punkt to /root/nltk_data...\n",
            "[nltk_data]   Package punkt is already up-to-date!\n",
            "[nltk_data] Downloading package stopwords to /root/nltk_data...\n",
            "[nltk_data]   Package stopwords is already up-to-date!\n"
          ],
          "name": "stdout"
        }
      ]
    },
    {
      "cell_type": "code",
      "metadata": {
        "id": "DzcOhI282n82",
        "colab_type": "code",
        "colab": {}
      },
      "source": [
        "'''\n",
        "Data Loading part taken from \n",
        "https://bsantraigi.github.io/2019/07/13/text-classification-using-naive-bayes-method.html\n",
        "'''\n",
        "class Lang:\n",
        "\n",
        "    def __init__(self, counter, vocab_size):\n",
        "        '''\n",
        "        Creates instance of Lang\n",
        "        '''\n",
        "        self.word2id = {}\n",
        "        self.id2word = {}\n",
        "        self.pad = \"<PAD>\"\n",
        "        self.sos = \"<SOS>\"\n",
        "        self.eos = \"<EOS>\"\n",
        "        self.unk = \"<UNK>\"\n",
        "        \n",
        "        self.ipad = 0\n",
        "        self.isos = 1\n",
        "        self.ieos = 2\n",
        "        self.iunk = 3\n",
        "        \n",
        "        self.word2id[self.pad] = 0\n",
        "        self.word2id[self.sos] = 1\n",
        "        self.word2id[self.eos] = 2\n",
        "        self.word2id[self.unk] = 3\n",
        "        \n",
        "        self.id2word[0] = self.pad\n",
        "        self.id2word[1] = self.sos\n",
        "        self.id2word[2] = self.eos\n",
        "        self.id2word[3] = self.unk\n",
        "        \n",
        "        curr_id = 4\n",
        "        # Filtering the vocab to keeping only most common words\n",
        "        # Also defining an encoder and decoder for the words\n",
        "        for w, c in counter.most_common(vocab_size-curr_id):\n",
        "            self.word2id[w] = curr_id\n",
        "            self.id2word[curr_id] = w\n",
        "            curr_id += 1\n",
        "    \n",
        "    def encodeSentence(self, wseq, max_len=-1):\n",
        "        if max_len == -1:\n",
        "            return [self.word2id[w] if w in self.word2id else self.iunk for w in wseq]\n",
        "        else:\n",
        "            return ([self.word2id[w] if w in self.word2id else self.iunk for w in wseq] + [self.ieos] + [self.ipad]*max_len)[:max_len]\n",
        "        \n",
        "    def encodeSentence2(self, wseq, max_len=-1):\n",
        "        return min(max_len, len(wseq)+1), \\\n",
        "            ([self.word2id[w] if w in self.word2id else self.iunk for w in wseq] + \\\n",
        "                [self.ieos] + [self.ipad]*max_len)[:max_len]\n",
        "    \n",
        "    def decodeSentence(self, id_seq):\n",
        "        id_seq = np.array(id_seq + [self.ieos])\n",
        "        j = np.argmax(id_seq==self.ieos)\n",
        "        s = ' '.join([self.id2word[x] for x in id_seq[:j]])\n",
        "        s = s.replace(self.unk, \"UNK\")\n",
        "        return s"
      ],
      "execution_count": 0,
      "outputs": []
    },
    {
      "cell_type": "code",
      "metadata": {
        "id": "bmrAWNH46TGT",
        "colab_type": "code",
        "outputId": "97cd1f26-60c1-4601-c542-0509f1b70b9e",
        "colab": {
          "base_uri": "https://localhost:8080/",
          "height": 204
        }
      },
      "source": [
        "# Downloads and untar's the data\n",
        "!wget http://ai.stanford.edu/~amaas/data/sentiment/aclImdb_v1.tar.gz\n",
        "![ ! -d data ] && mkdir data/\n",
        "![ ! -d data/aclImdb/ ] && tar -xzf aclImdb_v1.tar.gz -C data/"
      ],
      "execution_count": 4,
      "outputs": [
        {
          "output_type": "stream",
          "text": [
            "--2019-11-07 18:33:28--  http://ai.stanford.edu/~amaas/data/sentiment/aclImdb_v1.tar.gz\n",
            "Resolving ai.stanford.edu (ai.stanford.edu)... 171.64.68.10\n",
            "Connecting to ai.stanford.edu (ai.stanford.edu)|171.64.68.10|:80... connected.\n",
            "HTTP request sent, awaiting response... 200 OK\n",
            "Length: 84125825 (80M) [application/x-gzip]\n",
            "Saving to: ‘aclImdb_v1.tar.gz.2’\n",
            "\n",
            "aclImdb_v1.tar.gz.2 100%[===================>]  80.23M   895KB/s    in 75s     \n",
            "\n",
            "2019-11-07 18:34:43 (1.07 MB/s) - ‘aclImdb_v1.tar.gz.2’ saved [84125825/84125825]\n",
            "\n"
          ],
          "name": "stdout"
        }
      ]
    },
    {
      "cell_type": "code",
      "metadata": {
        "id": "zHC_umZE_xxU",
        "colab_type": "code",
        "colab": {}
      },
      "source": [
        "# Appending Positive & Negative examples for train in train_positive and train_negative\n",
        "data_folder = 'data/aclImdb/'\n",
        "rp = os.path.join(data_folder, 'train/pos')\n",
        "train_positive = [os.path.join(rp, f) for f in os.listdir(rp)]\n",
        "rp = os.path.join(data_folder, 'train/neg')\n",
        "train_negative = [os.path.join(rp, f) for f in os.listdir(rp)]\n",
        "\n",
        "# Appending Positive & Negative examples for test in test_positive and test_negative\n",
        "rp = os.path.join(data_folder, 'test/pos')\n",
        "test_positive = [os.path.join(rp, f) for f in os.listdir(rp)]\n",
        "rp = os.path.join(data_folder, 'test/neg')\n",
        "test_negative = [os.path.join(rp, f) for f in os.listdir(rp)]"
      ],
      "execution_count": 0,
      "outputs": []
    },
    {
      "cell_type": "code",
      "metadata": {
        "id": "UWs2KhIque19",
        "colab_type": "code",
        "colab": {}
      },
      "source": [
        "'''\n",
        "  Editing the stopword list to remove the words that have impact on sentiment classification\n",
        "'''\n",
        "stopword_set = set(stopwords.words(\"english\"))\n",
        "remove_list = [\"couldn't\",\"isn\",\"don't\",\"against\",\"doesn\",\"few\",\"wouldn't\",\"very\",\"haven't\",\"needn't\",\"hasn't\",\"wasn\",\"hadn't\",\"isn't\",\"shouldn\",\\\n",
        "                   \"wouldn\",\"won't\",\"more\",\"didn't\",\"most\",\"mightn't\",\"didn\",\"shouldn't\",\"wasn't\",\"doesn't\",\"mustn't\",\"don\",\"aren't\",\"weren't\",\"not\",\"should've\"]\n",
        "for word in remove_list:\n",
        "        stopword_set.remove(word)"
      ],
      "execution_count": 0,
      "outputs": []
    },
    {
      "cell_type": "code",
      "metadata": {
        "id": "l6jrniDO_sYw",
        "colab_type": "code",
        "outputId": "86fc8185-39b1-4a5e-b844-ba2a7e5f1589",
        "colab": {
          "base_uri": "https://localhost:8080/",
          "height": 85
        }
      },
      "source": [
        "re_html_cleaner = re.compile(r\"<.*?>\")\n",
        "\n",
        "en_counter = Counter()\n",
        "train_data = []\n",
        "for _fname in tqdm_notebook(train_positive, desc=\"Crunching +ve samples: \"):\n",
        "    with open(_fname) as f:\n",
        "        text = f.read().strip()\n",
        "        # Cleaning html links\n",
        "        text = re_html_cleaner.sub(\" \", text)\n",
        "        # Cleaning special characters and punctuations\n",
        "        text = re.sub('[^A-Za-z0-9]+', ' ', text)\n",
        "        # Tokenizing the words\n",
        "        wseq = nltk.tokenize.word_tokenize(text.lower())\n",
        "        # Filtering out the stopwords\n",
        "        wseq = [x for x in wseq if x not in stopword_set]\n",
        "        # Adding words to counter for vocab\n",
        "        en_counter += Counter(wseq)\n",
        "        train_data.append((wseq, 1,_fname))\n",
        "        \n",
        "for _fname in tqdm_notebook(train_negative, desc=\"Crunching -ve samples: \"):\n",
        "    with open(_fname) as f:\n",
        "        text = f.read().strip()\n",
        "        text = re_html_cleaner.sub(\" \", text)\n",
        "        text = re.sub('[^A-Za-z0-9]+', ' ', text)\n",
        "        wseq = nltk.tokenize.word_tokenize(text.lower())\n",
        "        wseq = [x for x in wseq if x not in stopword_set]\n",
        "        en_counter += Counter(wseq)\n",
        "        train_data.append((wseq, 0,_fname))\n",
        "        \n",
        "        \n",
        "test_data = []\n",
        "for _fname in tqdm_notebook(test_positive, desc=\"Crunching +ve samples: \"):\n",
        "    with open(_fname) as f:\n",
        "        text = f.read().strip()\n",
        "        text = re_html_cleaner.sub(\" \", text)\n",
        "        text = re.sub('[^A-Za-z0-9]+', ' ', text)\n",
        "        wseq = nltk.tokenize.word_tokenize(text.lower())\n",
        "        wseq = [x for x in wseq if x not in stopword_set]\n",
        "        test_data.append((wseq, 1,_fname))\n",
        "        \n",
        "for _fname in tqdm_notebook(test_negative, desc=\"Crunching -ve samples: \"):\n",
        "    with open(_fname) as f:\n",
        "        text = f.read().strip()\n",
        "        text = re_html_cleaner.sub(\" \", text)\n",
        "        text = re.sub('[^A-Za-z0-9]+', ' ', text)\n",
        "        wseq = nltk.tokenize.word_tokenize(text.lower())\n",
        "        wseq = [x for x in wseq if x not in stopword_set]\n",
        "        test_data.append((wseq, 0,_fname))"
      ],
      "execution_count": 7,
      "outputs": [
        {
          "output_type": "display_data",
          "data": {
            "application/vnd.jupyter.widget-view+json": {
              "model_id": "8db3cf4649a647a8b4b8a4e7e5581d1b",
              "version_minor": 0,
              "version_major": 2
            },
            "text/plain": [
              "HBox(children=(IntProgress(value=0, description='Crunching +ve samples: ', max=12500, style=ProgressStyle(desc…"
            ]
          },
          "metadata": {
            "tags": []
          }
        },
        {
          "output_type": "stream",
          "text": [
            "\n"
          ],
          "name": "stdout"
        },
        {
          "output_type": "display_data",
          "data": {
            "application/vnd.jupyter.widget-view+json": {
              "model_id": "97d35e2da74c4dbea5927a5ef12a5106",
              "version_minor": 0,
              "version_major": 2
            },
            "text/plain": [
              "HBox(children=(IntProgress(value=0, description='Crunching -ve samples: ', max=12500, style=ProgressStyle(desc…"
            ]
          },
          "metadata": {
            "tags": []
          }
        },
        {
          "output_type": "stream",
          "text": [
            "\n"
          ],
          "name": "stdout"
        },
        {
          "output_type": "display_data",
          "data": {
            "application/vnd.jupyter.widget-view+json": {
              "model_id": "ac8cd35e029a48f099f7bb432cea79e5",
              "version_minor": 0,
              "version_major": 2
            },
            "text/plain": [
              "HBox(children=(IntProgress(value=0, description='Crunching +ve samples: ', max=12500, style=ProgressStyle(desc…"
            ]
          },
          "metadata": {
            "tags": []
          }
        },
        {
          "output_type": "stream",
          "text": [
            "\n"
          ],
          "name": "stdout"
        },
        {
          "output_type": "display_data",
          "data": {
            "application/vnd.jupyter.widget-view+json": {
              "model_id": "1671c9561f124963b316a428e15e7603",
              "version_minor": 0,
              "version_major": 2
            },
            "text/plain": [
              "HBox(children=(IntProgress(value=0, description='Crunching -ve samples: ', max=12500, style=ProgressStyle(desc…"
            ]
          },
          "metadata": {
            "tags": []
          }
        },
        {
          "output_type": "stream",
          "text": [
            "\n"
          ],
          "name": "stdout"
        }
      ]
    },
    {
      "cell_type": "code",
      "metadata": {
        "id": "MX3c00k6ONmH",
        "colab_type": "code",
        "colab": {}
      },
      "source": [
        "#Shuffling the train_data and test_data to mix positive and negative sentiment data\n",
        "random.seed(0)\n",
        "random.shuffle(train_data)\n",
        "random.shuffle(test_data)"
      ],
      "execution_count": 0,
      "outputs": []
    },
    {
      "cell_type": "code",
      "metadata": {
        "id": "eJP8U5z42zg4",
        "colab_type": "code",
        "colab": {}
      },
      "source": [
        "# Creating Lang class object with a vocab of 10000 words\n",
        "V = 10000\n",
        "en_lang = Lang(en_counter, V)"
      ],
      "execution_count": 0,
      "outputs": []
    },
    {
      "cell_type": "code",
      "metadata": {
        "id": "iZPIERvw20RW",
        "colab_type": "code",
        "colab": {}
      },
      "source": [
        "# Encoding the sentences\n",
        "train_X_encoded = [en_lang.encodeSentence2(text[0])[1] for text in train_data]\n",
        "train_Y_encoded = [x[1] for x in train_data]\n",
        "test_X_encoded = [en_lang.encodeSentence2(text[0])[1] for text in test_data ]\n",
        "test_Y_encoded = [x[1] for x in test_data]"
      ],
      "execution_count": 0,
      "outputs": []
    },
    {
      "cell_type": "code",
      "metadata": {
        "id": "UWcWXYFd27r5",
        "colab_type": "code",
        "colab": {}
      },
      "source": [
        "# Padding the sequences\n",
        "max_review_length = 500\n",
        "X_train = pad_sequences(train_X_encoded,maxlen=max_review_length)\n",
        "X_test = pad_sequences(test_X_encoded,maxlen=max_review_length)"
      ],
      "execution_count": 0,
      "outputs": []
    },
    {
      "cell_type": "code",
      "metadata": {
        "id": "qn84q4qu3Erx",
        "colab_type": "code",
        "outputId": "574f9b24-8262-4416-e186-2b0e34ca2e50",
        "colab": {
          "base_uri": "https://localhost:8080/",
          "height": 343
        }
      },
      "source": [
        "# BiDirectional Deep Learning Model\n",
        "\n",
        "embedding = 500\n",
        "model = Sequential()\n",
        "model.add(Embedding(5000,embedding,input_length=max_review_length))\n",
        "model.add(Dropout(0.3))\n",
        "model.add(Bidirectional(GRU(128, activation='tanh', recurrent_activation='hard_sigmoid')))\n",
        "\n",
        "model.add(Dropout(0.3))\n",
        "\n",
        "model.add(Dense(1,activation='sigmoid'))\n",
        "model.compile(loss='binary_crossentropy',optimizer='adam',metrics=['accuracy'])"
      ],
      "execution_count": 12,
      "outputs": [
        {
          "output_type": "stream",
          "text": [
            "WARNING:tensorflow:From /usr/local/lib/python3.6/dist-packages/keras/backend/tensorflow_backend.py:66: The name tf.get_default_graph is deprecated. Please use tf.compat.v1.get_default_graph instead.\n",
            "\n",
            "WARNING:tensorflow:From /usr/local/lib/python3.6/dist-packages/keras/backend/tensorflow_backend.py:541: The name tf.placeholder is deprecated. Please use tf.compat.v1.placeholder instead.\n",
            "\n",
            "WARNING:tensorflow:From /usr/local/lib/python3.6/dist-packages/keras/backend/tensorflow_backend.py:4432: The name tf.random_uniform is deprecated. Please use tf.random.uniform instead.\n",
            "\n",
            "WARNING:tensorflow:From /usr/local/lib/python3.6/dist-packages/keras/backend/tensorflow_backend.py:148: The name tf.placeholder_with_default is deprecated. Please use tf.compat.v1.placeholder_with_default instead.\n",
            "\n",
            "WARNING:tensorflow:From /usr/local/lib/python3.6/dist-packages/keras/backend/tensorflow_backend.py:3733: calling dropout (from tensorflow.python.ops.nn_ops) with keep_prob is deprecated and will be removed in a future version.\n",
            "Instructions for updating:\n",
            "Please use `rate` instead of `keep_prob`. Rate should be set to `rate = 1 - keep_prob`.\n",
            "WARNING:tensorflow:From /usr/local/lib/python3.6/dist-packages/keras/optimizers.py:793: The name tf.train.Optimizer is deprecated. Please use tf.compat.v1.train.Optimizer instead.\n",
            "\n",
            "WARNING:tensorflow:From /usr/local/lib/python3.6/dist-packages/keras/backend/tensorflow_backend.py:3657: The name tf.log is deprecated. Please use tf.math.log instead.\n",
            "\n",
            "WARNING:tensorflow:From /usr/local/lib/python3.6/dist-packages/tensorflow_core/python/ops/nn_impl.py:183: where (from tensorflow.python.ops.array_ops) is deprecated and will be removed in a future version.\n",
            "Instructions for updating:\n",
            "Use tf.where in 2.0, which has the same broadcast rule as np.where\n"
          ],
          "name": "stdout"
        }
      ]
    },
    {
      "cell_type": "code",
      "metadata": {
        "id": "i3J1tUI63QWM",
        "colab_type": "code",
        "outputId": "9734c04c-f48f-4bf7-c9e2-20e7435defc8",
        "colab": {
          "base_uri": "https://localhost:8080/",
          "height": 394
        }
      },
      "source": [
        "history = model.fit(X_train,train_Y_encoded,epochs=2,batch_size=256,validation_data=(X_test,test_Y_encoded))"
      ],
      "execution_count": 13,
      "outputs": [
        {
          "output_type": "stream",
          "text": [
            "WARNING:tensorflow:From /usr/local/lib/python3.6/dist-packages/keras/backend/tensorflow_backend.py:1033: The name tf.assign_add is deprecated. Please use tf.compat.v1.assign_add instead.\n",
            "\n",
            "WARNING:tensorflow:From /usr/local/lib/python3.6/dist-packages/keras/backend/tensorflow_backend.py:1020: The name tf.assign is deprecated. Please use tf.compat.v1.assign instead.\n",
            "\n",
            "WARNING:tensorflow:From /usr/local/lib/python3.6/dist-packages/keras/backend/tensorflow_backend.py:3005: The name tf.Session is deprecated. Please use tf.compat.v1.Session instead.\n",
            "\n",
            "Train on 25000 samples, validate on 25000 samples\n",
            "Epoch 1/2\n",
            "WARNING:tensorflow:From /usr/local/lib/python3.6/dist-packages/keras/backend/tensorflow_backend.py:190: The name tf.get_default_session is deprecated. Please use tf.compat.v1.get_default_session instead.\n",
            "\n",
            "WARNING:tensorflow:From /usr/local/lib/python3.6/dist-packages/keras/backend/tensorflow_backend.py:197: The name tf.ConfigProto is deprecated. Please use tf.compat.v1.ConfigProto instead.\n",
            "\n",
            "WARNING:tensorflow:From /usr/local/lib/python3.6/dist-packages/keras/backend/tensorflow_backend.py:207: The name tf.global_variables is deprecated. Please use tf.compat.v1.global_variables instead.\n",
            "\n",
            "WARNING:tensorflow:From /usr/local/lib/python3.6/dist-packages/keras/backend/tensorflow_backend.py:216: The name tf.is_variable_initialized is deprecated. Please use tf.compat.v1.is_variable_initialized instead.\n",
            "\n",
            "WARNING:tensorflow:From /usr/local/lib/python3.6/dist-packages/keras/backend/tensorflow_backend.py:223: The name tf.variables_initializer is deprecated. Please use tf.compat.v1.variables_initializer instead.\n",
            "\n",
            "25000/25000 [==============================] - 136s 5ms/step - loss: 0.4405 - acc: 0.7760 - val_loss: 0.3327 - val_acc: 0.8599\n",
            "Epoch 2/2\n",
            "25000/25000 [==============================] - 135s 5ms/step - loss: 0.2561 - acc: 0.8986 - val_loss: 0.2995 - val_acc: 0.8754\n"
          ],
          "name": "stdout"
        }
      ]
    },
    {
      "cell_type": "code",
      "metadata": {
        "id": "kqt2o9y8Mx_6",
        "colab_type": "code",
        "outputId": "3690c4d0-bb02-4ea3-bfe5-625d1f44f4f8",
        "colab": {
          "base_uri": "https://localhost:8080/",
          "height": 295
        }
      },
      "source": [
        "# summarize history for accuracy\n",
        "plt.plot(history.history['acc'])\n",
        "plt.plot(history.history['val_acc'])\n",
        "plt.title('model accuracy')\n",
        "plt.ylabel('accuracy')\n",
        "plt.xlabel('epoch')\n",
        "plt.legend(['train', 'validation'], loc='upper left')\n",
        "plt.show()"
      ],
      "execution_count": 14,
      "outputs": [
        {
          "output_type": "display_data",
          "data": {
            "image/png": "[encoded data removed]",
            "text/plain": [
              "<Figure size 432x288 with 1 Axes>"
            ]
          },
          "metadata": {
            "tags": []
          }
        }
      ]
    },
    {
      "cell_type": "code",
      "metadata": {
        "id": "TXKrbofYJboY",
        "colab_type": "code",
        "outputId": "aee540b5-05cf-4102-c684-4d6af4facacb",
        "colab": {
          "base_uri": "https://localhost:8080/",
          "height": 295
        }
      },
      "source": [
        "# summarize history for loss\n",
        "plt.plot(history.history['loss'])\n",
        "plt.plot(history.history['val_loss'])\n",
        "plt.title('model loss')\n",
        "plt.ylabel('loss')\n",
        "plt.xlabel('epoch')\n",
        "plt.legend(['train', 'validation'], loc='upper left')\n",
        "plt.show()"
      ],
      "execution_count": 15,
      "outputs": [
        {
          "output_type": "display_data",
          "data": {
            "image/png": "[encoded data removed]",
            "text/plain": [
              "<Figure size 432x288 with 1 Axes>"
            ]
          },
          "metadata": {
            "tags": []
          }
        }
      ]
    }
  ]
}